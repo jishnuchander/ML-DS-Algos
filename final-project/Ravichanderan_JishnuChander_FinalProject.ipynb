{
 "cells": [
  {
   "cell_type": "code",
   "execution_count": 1,
   "id": "b6859e53",
   "metadata": {},
   "outputs": [
    {
     "data": {
      "application/javascript": [
       "IPython.notebook.set_autosave_interval(90000)"
      ]
     },
     "metadata": {},
     "output_type": "display_data"
    },
    {
     "name": "stdout",
     "output_type": "stream",
     "text": [
      "Autosaving every 90 seconds\n"
     ]
    }
   ],
   "source": [
    "%autosave 90"
   ]
  },
  {
   "cell_type": "markdown",
   "id": "4783195c",
   "metadata": {},
   "source": [
    "Name: Jishnu Chander Ravichanderan <br>\n",
    "Github Username: jishnuchander <br>\n",
    "USC ID: 1144843551 <br>"
   ]
  },
  {
   "cell_type": "code",
   "execution_count": 260,
   "id": "52963c9c",
   "metadata": {},
   "outputs": [],
   "source": [
    "# Importing all required libraries\n",
    "import os\n",
    "import re\n",
    "import pandas as pd\n",
    "import nltk\n",
    "import numpy as np\n",
    "import matplotlib.pyplot as plt\n",
    "from math import floor as fl\n",
    "import seaborn as sns\n",
    "from sklearn.model_selection import train_test_split, cross_val_score\n",
    "from sklearn.metrics import accuracy_score, classification_report, precision_score, recall_score, f1_score, confusion_matrix\n",
    "from keras.preprocessing.text import Tokenizer\n",
    "from keras.preprocessing.sequence import pad_sequences\n",
    "from keras.models import Sequential\n",
    "from keras.layers import Dense, Flatten, Dropout, LSTM\n",
    "from keras.layers.embeddings import Embedding\n",
    "from keras.layers.convolutional import Conv1D, MaxPooling1D"
   ]
  },
  {
   "cell_type": "markdown",
   "id": "a410b04c",
   "metadata": {},
   "source": [
    "### (b) Data Exploration and Pre-processing\n",
    "i. You can use binary encoding for the sentiments , i.e y = 1 for positive senti-\n",
    "ments and y = -1 for negative sentiments."
   ]
  },
  {
   "cell_type": "code",
   "execution_count": 30,
   "id": "05f3e3af",
   "metadata": {},
   "outputs": [],
   "source": [
    "path = os.getcwd()+\"\\Data\\\\neg\"\n",
    "\n",
    "num = []\n",
    "text = []\n",
    "for file in os.listdir(path):\n",
    "    with open(os.path.join(path, file), 'r') as f:\n",
    "        text.append(f.read())\n",
    "    num.append(file[2:5])"
   ]
  },
  {
   "cell_type": "code",
   "execution_count": 39,
   "id": "5c5393da",
   "metadata": {},
   "outputs": [
    {
     "data": {
      "text/html": [
       "<div>\n",
       "<style scoped>\n",
       "    .dataframe tbody tr th:only-of-type {\n",
       "        vertical-align: middle;\n",
       "    }\n",
       "\n",
       "    .dataframe tbody tr th {\n",
       "        vertical-align: top;\n",
       "    }\n",
       "\n",
       "    .dataframe thead th {\n",
       "        text-align: right;\n",
       "    }\n",
       "</style>\n",
       "<table border=\"1\" class=\"dataframe\">\n",
       "  <thead>\n",
       "    <tr style=\"text-align: right;\">\n",
       "      <th></th>\n",
       "      <th>review</th>\n",
       "      <th>review_num</th>\n",
       "      <th>label</th>\n",
       "    </tr>\n",
       "  </thead>\n",
       "  <tbody>\n",
       "    <tr>\n",
       "      <th>0</th>\n",
       "      <td>plot : two teen couples go to a church party ,...</td>\n",
       "      <td>000</td>\n",
       "      <td>-1</td>\n",
       "    </tr>\n",
       "    <tr>\n",
       "      <th>1</th>\n",
       "      <td>the happy bastard's quick movie review \\ndamn ...</td>\n",
       "      <td>001</td>\n",
       "      <td>-1</td>\n",
       "    </tr>\n",
       "    <tr>\n",
       "      <th>2</th>\n",
       "      <td>it is movies like these that make a jaded movi...</td>\n",
       "      <td>002</td>\n",
       "      <td>-1</td>\n",
       "    </tr>\n",
       "    <tr>\n",
       "      <th>3</th>\n",
       "      <td>\" quest for camelot \" is warner bros . ' firs...</td>\n",
       "      <td>003</td>\n",
       "      <td>-1</td>\n",
       "    </tr>\n",
       "    <tr>\n",
       "      <th>4</th>\n",
       "      <td>synopsis : a mentally unstable man undergoing ...</td>\n",
       "      <td>004</td>\n",
       "      <td>-1</td>\n",
       "    </tr>\n",
       "    <tr>\n",
       "      <th>...</th>\n",
       "      <td>...</td>\n",
       "      <td>...</td>\n",
       "      <td>...</td>\n",
       "    </tr>\n",
       "    <tr>\n",
       "      <th>995</th>\n",
       "      <td>if anything , \" stigmata \" should be taken as ...</td>\n",
       "      <td>995</td>\n",
       "      <td>-1</td>\n",
       "    </tr>\n",
       "    <tr>\n",
       "      <th>996</th>\n",
       "      <td>john boorman's \" zardoz \" is a goofy cinematic...</td>\n",
       "      <td>996</td>\n",
       "      <td>-1</td>\n",
       "    </tr>\n",
       "    <tr>\n",
       "      <th>997</th>\n",
       "      <td>the kids in the hall are an acquired taste . \\...</td>\n",
       "      <td>997</td>\n",
       "      <td>-1</td>\n",
       "    </tr>\n",
       "    <tr>\n",
       "      <th>998</th>\n",
       "      <td>there was a time when john carpenter was a gre...</td>\n",
       "      <td>998</td>\n",
       "      <td>-1</td>\n",
       "    </tr>\n",
       "    <tr>\n",
       "      <th>999</th>\n",
       "      <td>two party guys bob their heads to haddaway's d...</td>\n",
       "      <td>999</td>\n",
       "      <td>-1</td>\n",
       "    </tr>\n",
       "  </tbody>\n",
       "</table>\n",
       "<p>1000 rows × 3 columns</p>\n",
       "</div>"
      ],
      "text/plain": [
       "                                                review review_num  label\n",
       "0    plot : two teen couples go to a church party ,...        000     -1\n",
       "1    the happy bastard's quick movie review \\ndamn ...        001     -1\n",
       "2    it is movies like these that make a jaded movi...        002     -1\n",
       "3     \" quest for camelot \" is warner bros . ' firs...        003     -1\n",
       "4    synopsis : a mentally unstable man undergoing ...        004     -1\n",
       "..                                                 ...        ...    ...\n",
       "995  if anything , \" stigmata \" should be taken as ...        995     -1\n",
       "996  john boorman's \" zardoz \" is a goofy cinematic...        996     -1\n",
       "997  the kids in the hall are an acquired taste . \\...        997     -1\n",
       "998  there was a time when john carpenter was a gre...        998     -1\n",
       "999  two party guys bob their heads to haddaway's d...        999     -1\n",
       "\n",
       "[1000 rows x 3 columns]"
      ]
     },
     "execution_count": 39,
     "metadata": {},
     "output_type": "execute_result"
    }
   ],
   "source": [
    "df_neg = pd.DataFrame(zip(text, num), columns=['review', 'review_num'])\n",
    "df_neg['label'] = -1\n",
    "df_neg"
   ]
  },
  {
   "cell_type": "code",
   "execution_count": 40,
   "id": "c0534beb",
   "metadata": {},
   "outputs": [],
   "source": [
    "path = os.getcwd()+\"\\Data\\\\pos\"\n",
    "\n",
    "num = []\n",
    "text = []\n",
    "for file in os.listdir(path):\n",
    "    with open(os.path.join(path, file), 'r') as f:\n",
    "        text.append(f.read())\n",
    "    num.append(file[2:5])"
   ]
  },
  {
   "cell_type": "code",
   "execution_count": 42,
   "id": "82463e22",
   "metadata": {},
   "outputs": [
    {
     "data": {
      "text/html": [
       "<div>\n",
       "<style scoped>\n",
       "    .dataframe tbody tr th:only-of-type {\n",
       "        vertical-align: middle;\n",
       "    }\n",
       "\n",
       "    .dataframe tbody tr th {\n",
       "        vertical-align: top;\n",
       "    }\n",
       "\n",
       "    .dataframe thead th {\n",
       "        text-align: right;\n",
       "    }\n",
       "</style>\n",
       "<table border=\"1\" class=\"dataframe\">\n",
       "  <thead>\n",
       "    <tr style=\"text-align: right;\">\n",
       "      <th></th>\n",
       "      <th>review</th>\n",
       "      <th>review_num</th>\n",
       "      <th>label</th>\n",
       "    </tr>\n",
       "  </thead>\n",
       "  <tbody>\n",
       "    <tr>\n",
       "      <th>0</th>\n",
       "      <td>films adapted from comic books have had plenty...</td>\n",
       "      <td>000</td>\n",
       "      <td>1</td>\n",
       "    </tr>\n",
       "    <tr>\n",
       "      <th>1</th>\n",
       "      <td>every now and then a movie comes along from a ...</td>\n",
       "      <td>001</td>\n",
       "      <td>1</td>\n",
       "    </tr>\n",
       "    <tr>\n",
       "      <th>2</th>\n",
       "      <td>you've got mail works alot better than it dese...</td>\n",
       "      <td>002</td>\n",
       "      <td>1</td>\n",
       "    </tr>\n",
       "    <tr>\n",
       "      <th>3</th>\n",
       "      <td>\" jaws \" is a rare film that grabs your atten...</td>\n",
       "      <td>003</td>\n",
       "      <td>1</td>\n",
       "    </tr>\n",
       "    <tr>\n",
       "      <th>4</th>\n",
       "      <td>moviemaking is a lot like being the general ma...</td>\n",
       "      <td>004</td>\n",
       "      <td>1</td>\n",
       "    </tr>\n",
       "    <tr>\n",
       "      <th>...</th>\n",
       "      <td>...</td>\n",
       "      <td>...</td>\n",
       "      <td>...</td>\n",
       "    </tr>\n",
       "    <tr>\n",
       "      <th>995</th>\n",
       "      <td>wow ! what a movie . \\nit's everything a movie...</td>\n",
       "      <td>995</td>\n",
       "      <td>1</td>\n",
       "    </tr>\n",
       "    <tr>\n",
       "      <th>996</th>\n",
       "      <td>richard gere can be a commanding actor , but h...</td>\n",
       "      <td>996</td>\n",
       "      <td>1</td>\n",
       "    </tr>\n",
       "    <tr>\n",
       "      <th>997</th>\n",
       "      <td>glory--starring matthew broderick , denzel was...</td>\n",
       "      <td>997</td>\n",
       "      <td>1</td>\n",
       "    </tr>\n",
       "    <tr>\n",
       "      <th>998</th>\n",
       "      <td>steven spielberg's second epic film on world w...</td>\n",
       "      <td>998</td>\n",
       "      <td>1</td>\n",
       "    </tr>\n",
       "    <tr>\n",
       "      <th>999</th>\n",
       "      <td>truman ( \" true-man \" ) burbank is the perfect...</td>\n",
       "      <td>999</td>\n",
       "      <td>1</td>\n",
       "    </tr>\n",
       "  </tbody>\n",
       "</table>\n",
       "<p>1000 rows × 3 columns</p>\n",
       "</div>"
      ],
      "text/plain": [
       "                                                review review_num  label\n",
       "0    films adapted from comic books have had plenty...        000      1\n",
       "1    every now and then a movie comes along from a ...        001      1\n",
       "2    you've got mail works alot better than it dese...        002      1\n",
       "3     \" jaws \" is a rare film that grabs your atten...        003      1\n",
       "4    moviemaking is a lot like being the general ma...        004      1\n",
       "..                                                 ...        ...    ...\n",
       "995  wow ! what a movie . \\nit's everything a movie...        995      1\n",
       "996  richard gere can be a commanding actor , but h...        996      1\n",
       "997  glory--starring matthew broderick , denzel was...        997      1\n",
       "998  steven spielberg's second epic film on world w...        998      1\n",
       "999  truman ( \" true-man \" ) burbank is the perfect...        999      1\n",
       "\n",
       "[1000 rows x 3 columns]"
      ]
     },
     "execution_count": 42,
     "metadata": {},
     "output_type": "execute_result"
    }
   ],
   "source": [
    "df_pos = pd.DataFrame(zip(text, num), columns=['review', 'review_num'])\n",
    "df_pos['label'] = 1\n",
    "df_pos"
   ]
  },
  {
   "cell_type": "code",
   "execution_count": 126,
   "id": "ae8a3ae8",
   "metadata": {},
   "outputs": [
    {
     "data": {
      "text/html": [
       "<div>\n",
       "<style scoped>\n",
       "    .dataframe tbody tr th:only-of-type {\n",
       "        vertical-align: middle;\n",
       "    }\n",
       "\n",
       "    .dataframe tbody tr th {\n",
       "        vertical-align: top;\n",
       "    }\n",
       "\n",
       "    .dataframe thead th {\n",
       "        text-align: right;\n",
       "    }\n",
       "</style>\n",
       "<table border=\"1\" class=\"dataframe\">\n",
       "  <thead>\n",
       "    <tr style=\"text-align: right;\">\n",
       "      <th></th>\n",
       "      <th>review</th>\n",
       "      <th>review_num</th>\n",
       "      <th>label</th>\n",
       "    </tr>\n",
       "  </thead>\n",
       "  <tbody>\n",
       "    <tr>\n",
       "      <th>0</th>\n",
       "      <td>films adapted from comic books have had plenty...</td>\n",
       "      <td>000</td>\n",
       "      <td>1</td>\n",
       "    </tr>\n",
       "    <tr>\n",
       "      <th>1</th>\n",
       "      <td>every now and then a movie comes along from a ...</td>\n",
       "      <td>001</td>\n",
       "      <td>1</td>\n",
       "    </tr>\n",
       "    <tr>\n",
       "      <th>2</th>\n",
       "      <td>you've got mail works alot better than it dese...</td>\n",
       "      <td>002</td>\n",
       "      <td>1</td>\n",
       "    </tr>\n",
       "    <tr>\n",
       "      <th>3</th>\n",
       "      <td>\" jaws \" is a rare film that grabs your atten...</td>\n",
       "      <td>003</td>\n",
       "      <td>1</td>\n",
       "    </tr>\n",
       "    <tr>\n",
       "      <th>4</th>\n",
       "      <td>moviemaking is a lot like being the general ma...</td>\n",
       "      <td>004</td>\n",
       "      <td>1</td>\n",
       "    </tr>\n",
       "    <tr>\n",
       "      <th>...</th>\n",
       "      <td>...</td>\n",
       "      <td>...</td>\n",
       "      <td>...</td>\n",
       "    </tr>\n",
       "    <tr>\n",
       "      <th>1995</th>\n",
       "      <td>if anything , \" stigmata \" should be taken as ...</td>\n",
       "      <td>995</td>\n",
       "      <td>-1</td>\n",
       "    </tr>\n",
       "    <tr>\n",
       "      <th>1996</th>\n",
       "      <td>john boorman's \" zardoz \" is a goofy cinematic...</td>\n",
       "      <td>996</td>\n",
       "      <td>-1</td>\n",
       "    </tr>\n",
       "    <tr>\n",
       "      <th>1997</th>\n",
       "      <td>the kids in the hall are an acquired taste . \\...</td>\n",
       "      <td>997</td>\n",
       "      <td>-1</td>\n",
       "    </tr>\n",
       "    <tr>\n",
       "      <th>1998</th>\n",
       "      <td>there was a time when john carpenter was a gre...</td>\n",
       "      <td>998</td>\n",
       "      <td>-1</td>\n",
       "    </tr>\n",
       "    <tr>\n",
       "      <th>1999</th>\n",
       "      <td>two party guys bob their heads to haddaway's d...</td>\n",
       "      <td>999</td>\n",
       "      <td>-1</td>\n",
       "    </tr>\n",
       "  </tbody>\n",
       "</table>\n",
       "<p>2000 rows × 3 columns</p>\n",
       "</div>"
      ],
      "text/plain": [
       "                                                 review review_num  label\n",
       "0     films adapted from comic books have had plenty...        000      1\n",
       "1     every now and then a movie comes along from a ...        001      1\n",
       "2     you've got mail works alot better than it dese...        002      1\n",
       "3      \" jaws \" is a rare film that grabs your atten...        003      1\n",
       "4     moviemaking is a lot like being the general ma...        004      1\n",
       "...                                                 ...        ...    ...\n",
       "1995  if anything , \" stigmata \" should be taken as ...        995     -1\n",
       "1996  john boorman's \" zardoz \" is a goofy cinematic...        996     -1\n",
       "1997  the kids in the hall are an acquired taste . \\...        997     -1\n",
       "1998  there was a time when john carpenter was a gre...        998     -1\n",
       "1999  two party guys bob their heads to haddaway's d...        999     -1\n",
       "\n",
       "[2000 rows x 3 columns]"
      ]
     },
     "execution_count": 126,
     "metadata": {},
     "output_type": "execute_result"
    }
   ],
   "source": [
    "df_reviews = pd.concat([df_pos, df_neg], ignore_index=True)\n",
    "df_reviews"
   ]
  },
  {
   "cell_type": "markdown",
   "id": "8ea88b53",
   "metadata": {},
   "source": [
    "ii. The data are pretty clean. Remove the punctuation and numbers from the\n",
    "data."
   ]
  },
  {
   "cell_type": "code",
   "execution_count": 127,
   "id": "b5976ba9",
   "metadata": {},
   "outputs": [],
   "source": [
    "df_reviews['review'] = df_reviews['review'].apply(lambda x: re.sub('\\n', ' ', x))\n",
    "df_reviews['review'] = df_reviews['review'].apply(lambda x: re.sub('[^A-Za-z ]+', '', x))"
   ]
  },
  {
   "cell_type": "markdown",
   "id": "328ee73f",
   "metadata": {},
   "source": [
    "iii. The name of each text file starts with cv number. Use text files 0-699 in each\n",
    "class for training and 700-999 for testing."
   ]
  },
  {
   "cell_type": "code",
   "execution_count": 128,
   "id": "5c4ef3a7",
   "metadata": {},
   "outputs": [],
   "source": [
    "df_reviews['review_num'] = df_reviews['review_num'].astype(int)"
   ]
  },
  {
   "cell_type": "code",
   "execution_count": 225,
   "id": "9b4bb165",
   "metadata": {},
   "outputs": [],
   "source": [
    "df_reviews = df_reviews.replace(-1, 0)"
   ]
  },
  {
   "cell_type": "code",
   "execution_count": 226,
   "id": "c9b2376a",
   "metadata": {},
   "outputs": [],
   "source": [
    "df_train = df_reviews.loc[(df_reviews['review_num']>=0) & (df_reviews['review_num']<=699)]\n",
    "df_test = df_reviews.loc[(df_reviews['review_num']>=700) & (df_reviews['review_num']<=999)]"
   ]
  },
  {
   "cell_type": "markdown",
   "id": "97a7211b",
   "metadata": {},
   "source": [
    "iv. Count the number of unique words in the whole dataset (train + test) and\n",
    "print it out."
   ]
  },
  {
   "cell_type": "code",
   "execution_count": 227,
   "id": "355c8308",
   "metadata": {},
   "outputs": [
    {
     "data": {
      "text/html": [
       "<div>\n",
       "<style scoped>\n",
       "    .dataframe tbody tr th:only-of-type {\n",
       "        vertical-align: middle;\n",
       "    }\n",
       "\n",
       "    .dataframe tbody tr th {\n",
       "        vertical-align: top;\n",
       "    }\n",
       "\n",
       "    .dataframe thead th {\n",
       "        text-align: right;\n",
       "    }\n",
       "</style>\n",
       "<table border=\"1\" class=\"dataframe\">\n",
       "  <thead>\n",
       "    <tr style=\"text-align: right;\">\n",
       "      <th></th>\n",
       "      <th>review</th>\n",
       "      <th>review_num</th>\n",
       "      <th>label</th>\n",
       "    </tr>\n",
       "  </thead>\n",
       "  <tbody>\n",
       "    <tr>\n",
       "      <th>0</th>\n",
       "      <td>films adapted from comic books have had plenty...</td>\n",
       "      <td>0</td>\n",
       "      <td>1</td>\n",
       "    </tr>\n",
       "    <tr>\n",
       "      <th>1</th>\n",
       "      <td>every now and then a movie comes along from a ...</td>\n",
       "      <td>1</td>\n",
       "      <td>1</td>\n",
       "    </tr>\n",
       "    <tr>\n",
       "      <th>2</th>\n",
       "      <td>youve got mail works alot better than it deser...</td>\n",
       "      <td>2</td>\n",
       "      <td>1</td>\n",
       "    </tr>\n",
       "    <tr>\n",
       "      <th>3</th>\n",
       "      <td>jaws  is a rare film that grabs your attenti...</td>\n",
       "      <td>3</td>\n",
       "      <td>1</td>\n",
       "    </tr>\n",
       "    <tr>\n",
       "      <th>4</th>\n",
       "      <td>moviemaking is a lot like being the general ma...</td>\n",
       "      <td>4</td>\n",
       "      <td>1</td>\n",
       "    </tr>\n",
       "    <tr>\n",
       "      <th>...</th>\n",
       "      <td>...</td>\n",
       "      <td>...</td>\n",
       "      <td>...</td>\n",
       "    </tr>\n",
       "    <tr>\n",
       "      <th>1995</th>\n",
       "      <td>if anything   stigmata  should be taken as a w...</td>\n",
       "      <td>995</td>\n",
       "      <td>0</td>\n",
       "    </tr>\n",
       "    <tr>\n",
       "      <th>1996</th>\n",
       "      <td>john boormans  zardoz  is a goofy cinematic de...</td>\n",
       "      <td>996</td>\n",
       "      <td>0</td>\n",
       "    </tr>\n",
       "    <tr>\n",
       "      <th>1997</th>\n",
       "      <td>the kids in the hall are an acquired taste   i...</td>\n",
       "      <td>997</td>\n",
       "      <td>0</td>\n",
       "    </tr>\n",
       "    <tr>\n",
       "      <th>1998</th>\n",
       "      <td>there was a time when john carpenter was a gre...</td>\n",
       "      <td>998</td>\n",
       "      <td>0</td>\n",
       "    </tr>\n",
       "    <tr>\n",
       "      <th>1999</th>\n",
       "      <td>two party guys bob their heads to haddaways da...</td>\n",
       "      <td>999</td>\n",
       "      <td>0</td>\n",
       "    </tr>\n",
       "  </tbody>\n",
       "</table>\n",
       "<p>2000 rows × 3 columns</p>\n",
       "</div>"
      ],
      "text/plain": [
       "                                                 review  review_num  label\n",
       "0     films adapted from comic books have had plenty...           0      1\n",
       "1     every now and then a movie comes along from a ...           1      1\n",
       "2     youve got mail works alot better than it deser...           2      1\n",
       "3       jaws  is a rare film that grabs your attenti...           3      1\n",
       "4     moviemaking is a lot like being the general ma...           4      1\n",
       "...                                                 ...         ...    ...\n",
       "1995  if anything   stigmata  should be taken as a w...         995      0\n",
       "1996  john boormans  zardoz  is a goofy cinematic de...         996      0\n",
       "1997  the kids in the hall are an acquired taste   i...         997      0\n",
       "1998  there was a time when john carpenter was a gre...         998      0\n",
       "1999  two party guys bob their heads to haddaways da...         999      0\n",
       "\n",
       "[2000 rows x 3 columns]"
      ]
     },
     "execution_count": 227,
     "metadata": {},
     "output_type": "execute_result"
    }
   ],
   "source": [
    "df_reviews"
   ]
  },
  {
   "cell_type": "code",
   "execution_count": 228,
   "id": "81475c9a",
   "metadata": {},
   "outputs": [
    {
     "name": "stdout",
     "output_type": "stream",
     "text": [
      "46787\n"
     ]
    }
   ],
   "source": [
    "res = set()\n",
    "df_reviews['review'].str.lower().str.split().apply(res.update)\n",
    "print(len(res))"
   ]
  },
  {
   "cell_type": "markdown",
   "id": "ea2b5e17",
   "metadata": {},
   "source": [
    "v. Calculate the average review length and the standard deviation of review\n",
    "lengths. Report the results."
   ]
  },
  {
   "cell_type": "code",
   "execution_count": 229,
   "id": "67a09113",
   "metadata": {},
   "outputs": [],
   "source": [
    "reviews = df_reviews['review'].tolist()\n",
    "count = []\n",
    "for r in reviews:\n",
    "    count.append(len(r.split()))"
   ]
  },
  {
   "cell_type": "code",
   "execution_count": 230,
   "id": "74d83ef0",
   "metadata": {},
   "outputs": [
    {
     "data": {
      "text/plain": [
       "(644.3465, 284.97711212964106)"
      ]
     },
     "execution_count": 230,
     "metadata": {},
     "output_type": "execute_result"
    }
   ],
   "source": [
    "np.mean(count), np.std(count)"
   ]
  },
  {
   "cell_type": "markdown",
   "id": "e57a1951",
   "metadata": {},
   "source": [
    "vi. Plot the histogram of review lengths."
   ]
  },
  {
   "cell_type": "code",
   "execution_count": 155,
   "id": "5b73a578",
   "metadata": {},
   "outputs": [
    {
     "data": {
      "image/png": "[encoded data removed]",
      "text/plain": [
       "<Figure size 1080x720 with 1 Axes>"
      ]
     },
     "metadata": {},
     "output_type": "display_data"
    }
   ],
   "source": [
    "sns.set(rc={'figure.figsize':(15,10)})\n",
    "sns.histplot(count)\n",
    "plt.show()"
   ]
  },
  {
   "cell_type": "markdown",
   "id": "ffa4493f",
   "metadata": {},
   "source": [
    "vii. To represent each text (= data point), there are many ways. In NLP/Deep\n",
    "Learning terminology, this task is called tokenization. It is common to rep-\n",
    "resent text using popularity/ rank of words in text. The most common word\n",
    "in the text will be represented as 1, the second most common word will be\n",
    "represented as 2, etc. Tokenize each text document using this method."
   ]
  },
  {
   "cell_type": "code",
   "execution_count": 231,
   "id": "76744f52",
   "metadata": {},
   "outputs": [],
   "source": [
    "reviews_list = df_reviews['review'].tolist()"
   ]
  },
  {
   "cell_type": "code",
   "execution_count": 232,
   "id": "61a995ec",
   "metadata": {},
   "outputs": [
    {
     "data": {
      "text/plain": [
       "737"
      ]
     },
     "execution_count": 232,
     "metadata": {},
     "output_type": "execute_result"
    }
   ],
   "source": [
    "L = int(np.percentile(count, 70))\n",
    "L"
   ]
  },
  {
   "cell_type": "code",
   "execution_count": 233,
   "id": "28381966",
   "metadata": {},
   "outputs": [],
   "source": [
    "reviews_train = df_train['review'].tolist()\n",
    "reviews_test = df_test['review'].tolist()"
   ]
  },
  {
   "cell_type": "code",
   "execution_count": 234,
   "id": "bda198da",
   "metadata": {},
   "outputs": [],
   "source": [
    "tokenizer = Tokenizer(num_words=5000)\n",
    "tokenizer.fit_on_texts(reviews_train)"
   ]
  },
  {
   "cell_type": "code",
   "execution_count": 235,
   "id": "b736be9e",
   "metadata": {},
   "outputs": [],
   "source": [
    "sequences_train = tokenizer.texts_to_sequences(reviews_train)\n",
    "sequences_test = tokenizer.texts_to_sequences(reviews_test)"
   ]
  },
  {
   "cell_type": "code",
   "execution_count": 236,
   "id": "77ba5b4e",
   "metadata": {},
   "outputs": [
    {
     "data": {
      "text/plain": [
       "600"
      ]
     },
     "execution_count": 236,
     "metadata": {},
     "output_type": "execute_result"
    }
   ],
   "source": [
    "len(sequences_test)"
   ]
  },
  {
   "cell_type": "markdown",
   "id": "19e6d0fe",
   "metadata": {},
   "source": [
    "ix. Truncate reviews longer than L words and zero-pad reviews shorter than L so that all texts (= data points) are of length L."
   ]
  },
  {
   "cell_type": "code",
   "execution_count": 237,
   "id": "09fff8f1",
   "metadata": {},
   "outputs": [
    {
     "name": "stdout",
     "output_type": "stream",
     "text": [
      "(1400, 737) (600, 737)\n"
     ]
    }
   ],
   "source": [
    "X_train = pad_sequences(sequences_train, maxlen=L, padding='post', truncating='post')\n",
    "X_test = pad_sequences(sequences_test, maxlen=L, padding='post', truncating='post')\n",
    "print(X_train.shape, X_test.shape)"
   ]
  },
  {
   "cell_type": "markdown",
   "id": "cd376236",
   "metadata": {},
   "source": [
    "(c) Word Embeddings\n",
    "\n",
    "i. One can use tokenized text as inputs to a deep neural network. However, a recent breakthrough in NLP suggests that more sophisticated representations of text yield better results. These sophisticated representations are called word embeddings. \\Word embedding is a term used for representation of words for text analysis, typically in the form of a real-valued vector that encodes the meaning of the word such that the words that are closer in the vector space are expected to be similar in meaning.\"4. Most deep learning modules (including Keras) provide a convenient way to convert positive integer representations of words into a word embedding by an \\Embedding layer.\" The layer accepts arguments that define the mapping of words into embeddings, including the maximum number of expected words also called the vocabulary size (e.g. the largest integer value). The layer also allows you to specify the dimension for each word vector, called the \\output dimension.\" We would like to use a word embedding layer for this project. Assume that we are interested in the top 5,000 words. This means that in each integer sequence that represents each document, we set to zero those integers that represent words that are not among the top 5,000 words in the document.5 If you feel more adventurous, use all the words that appear in this corpus. Choose the length of the embedding vector for each word to be 32. Hence, each document is represented as a 32 x L matrix."
   ]
  },
  {
   "cell_type": "markdown",
   "id": "81ecce20",
   "metadata": {},
   "source": [
    "ii. Flatten the matrix of each document to a vector."
   ]
  },
  {
   "cell_type": "markdown",
   "id": "88646497",
   "metadata": {},
   "source": [
    "(d) Multi-Layer Perceptron\n",
    "i. Train a MLP with three (dense) hidden layers each of which has 50 ReLUs and one output layer with a single sigmoid neuron. Use a dropout rate of\n",
    "20% for the first layer and 50% for the other layers. Use ADAM optimizer\n",
    "and binary cross entropy loss (which is equivalent to having a softmax in the\n",
    "output). To avoid overfitting, just set the number of epochs as 2. Use a batch\n",
    "size of 10.\n",
    "\n",
    "ii. Report the train and test accuracies of this model."
   ]
  },
  {
   "cell_type": "code",
   "execution_count": 238,
   "id": "2de07a13",
   "metadata": {},
   "outputs": [],
   "source": [
    "labels_train = np.array(df_train['label'].tolist())\n",
    "labels_test = np.array(df_test['label'].tolist())"
   ]
  },
  {
   "cell_type": "code",
   "execution_count": 239,
   "id": "d0695855",
   "metadata": {},
   "outputs": [],
   "source": [
    "vocab_size = 5000\n",
    "epochs = 2"
   ]
  },
  {
   "cell_type": "code",
   "execution_count": 240,
   "id": "5fe6d084",
   "metadata": {},
   "outputs": [
    {
     "name": "stdout",
     "output_type": "stream",
     "text": [
      "Model: \"sequential_7\"\n",
      "_________________________________________________________________\n",
      " Layer (type)                Output Shape              Param #   \n",
      "=================================================================\n",
      " embedding_6 (Embedding)     (None, 737, 32)           160000    \n",
      "                                                                 \n",
      " flatten_6 (Flatten)         (None, 23584)             0         \n",
      "                                                                 \n",
      " dense_24 (Dense)            (None, 50)                1179250   \n",
      "                                                                 \n",
      " dropout_18 (Dropout)        (None, 50)                0         \n",
      "                                                                 \n",
      " dense_25 (Dense)            (None, 50)                2550      \n",
      "                                                                 \n",
      " dropout_19 (Dropout)        (None, 50)                0         \n",
      "                                                                 \n",
      " dense_26 (Dense)            (None, 50)                2550      \n",
      "                                                                 \n",
      " dropout_20 (Dropout)        (None, 50)                0         \n",
      "                                                                 \n",
      " dense_27 (Dense)            (None, 1)                 51        \n",
      "                                                                 \n",
      "=================================================================\n",
      "Total params: 1,344,401\n",
      "Trainable params: 1,344,401\n",
      "Non-trainable params: 0\n",
      "_________________________________________________________________\n"
     ]
    }
   ],
   "source": [
    "model = Sequential()\n",
    "model.add(Embedding(vocab_size, 32, input_length = L))\n",
    "model.add(Flatten())\n",
    "model.add(Dense(50, activation = 'relu'))\n",
    "model.add(Dropout(0.2))\n",
    "model.add(Dense(50, activation = 'relu'))\n",
    "model.add(Dropout(0.5))\n",
    "model.add(Dense(50, activation = 'relu'))\n",
    "model.add(Dropout(0.5))\n",
    "model.add(Dense(1, activation='sigmoid'))\n",
    "model.summary()"
   ]
  },
  {
   "cell_type": "code",
   "execution_count": 241,
   "id": "736204ae",
   "metadata": {},
   "outputs": [],
   "source": [
    "model.compile(optimizer='adam', loss='binary_crossentropy', metrics=['accuracy'])"
   ]
  },
  {
   "cell_type": "code",
   "execution_count": 243,
   "id": "4adc9b0f",
   "metadata": {},
   "outputs": [
    {
     "name": "stdout",
     "output_type": "stream",
     "text": [
      "Epoch 1/2\n",
      "140/140 [==============================] - 2s 12ms/step - loss: 0.0012 - accuracy: 0.9993 - val_loss: 2.0406 - val_accuracy: 0.6433\n",
      "Epoch 2/2\n",
      "140/140 [==============================] - 2s 12ms/step - loss: 9.7183e-04 - accuracy: 1.0000 - val_loss: 2.2743 - val_accuracy: 0.6383\n"
     ]
    },
    {
     "data": {
      "text/plain": [
       "<keras.callbacks.History at 0x26983806490>"
      ]
     },
     "execution_count": 243,
     "metadata": {},
     "output_type": "execute_result"
    }
   ],
   "source": [
    "model.fit(X_train, labels_train, batch_size = 10, epochs = 2, verbose = 1, validation_data = (X_test, labels_test))"
   ]
  },
  {
   "cell_type": "code",
   "execution_count": 247,
   "id": "212b4f21",
   "metadata": {},
   "outputs": [
    {
     "name": "stdout",
     "output_type": "stream",
     "text": [
      "Train Accuracy:  1.0\n"
     ]
    }
   ],
   "source": [
    "score = model.evaluate(X_train, labels_train, verbose = 0)\n",
    "print('Train Accuracy: ', score[1])"
   ]
  },
  {
   "cell_type": "code",
   "execution_count": 246,
   "id": "a64a78f1",
   "metadata": {},
   "outputs": [
    {
     "name": "stdout",
     "output_type": "stream",
     "text": [
      "Test Accuracy:  0.6383333206176758\n"
     ]
    }
   ],
   "source": [
    "score = model.evaluate(X_test, labels_test, verbose = 0)\n",
    "print('Test Accuracy: ', score[1])"
   ]
  },
  {
   "cell_type": "markdown",
   "id": "8f1d7f7a",
   "metadata": {},
   "source": [
    "(e) One-Dimensional Convolutional Neural Network:\n",
    "Although CNNs are mainly used for image data, they can also be applied to text\n",
    "data, as text also has adjacency information. Keras supports one-dimensional\n",
    "convolutions and pooling by the Conv1D and MaxPooling1D classes respectively.\n",
    "i. After the embedding layer, insert a Conv1D layer. This convolutional layer\n",
    "has 32 feature maps , and each of the 32 kernels has size 3, i.e. reads embedded\n",
    "word representations 3 vector elements of the word embedding at a time. The\n",
    "convolutional layer is followed by a 1D max pooling layer with a length and\n",
    "stride of 2 that halves the size of the feature maps from the convolutional\n",
    "layer. The rest of the network is the same as the neural network above.\n",
    "ii. Report the train and test accuracies of this model."
   ]
  },
  {
   "cell_type": "code",
   "execution_count": 251,
   "id": "179c6b31",
   "metadata": {},
   "outputs": [
    {
     "name": "stdout",
     "output_type": "stream",
     "text": [
      "Model: \"sequential_9\"\n",
      "_________________________________________________________________\n",
      " Layer (type)                Output Shape              Param #   \n",
      "=================================================================\n",
      " embedding_8 (Embedding)     (None, 737, 32)           160000    \n",
      "                                                                 \n",
      " conv1d (Conv1D)             (None, 735, 32)           3104      \n",
      "                                                                 \n",
      " max_pooling1d (MaxPooling1D  (None, 367, 32)          0         \n",
      " )                                                               \n",
      "                                                                 \n",
      " flatten_7 (Flatten)         (None, 11744)             0         \n",
      "                                                                 \n",
      " dense_28 (Dense)            (None, 50)                587250    \n",
      "                                                                 \n",
      " dropout_21 (Dropout)        (None, 50)                0         \n",
      "                                                                 \n",
      " dense_29 (Dense)            (None, 50)                2550      \n",
      "                                                                 \n",
      " dropout_22 (Dropout)        (None, 50)                0         \n",
      "                                                                 \n",
      " dense_30 (Dense)            (None, 50)                2550      \n",
      "                                                                 \n",
      " dropout_23 (Dropout)        (None, 50)                0         \n",
      "                                                                 \n",
      " dense_31 (Dense)            (None, 1)                 51        \n",
      "                                                                 \n",
      "=================================================================\n",
      "Total params: 755,505\n",
      "Trainable params: 755,505\n",
      "Non-trainable params: 0\n",
      "_________________________________________________________________\n"
     ]
    }
   ],
   "source": [
    "model_cnn = Sequential()\n",
    "model_cnn.add(Embedding(vocab_size, 32, input_length = L))\n",
    "model_cnn.add(Conv1D(filters=32, kernel_size=3, activation='relu'))\n",
    "model_cnn.add(MaxPooling1D(pool_size=2))\n",
    "model_cnn.add(Flatten())\n",
    "model_cnn.add(Dense(50, activation = 'relu'))\n",
    "model_cnn.add(Dropout(0.2))\n",
    "model_cnn.add(Dense(50, activation = 'relu'))\n",
    "model_cnn.add(Dropout(0.5))\n",
    "model_cnn.add(Dense(50, activation = 'relu'))\n",
    "model_cnn.add(Dropout(0.5))\n",
    "model_cnn.add(Dense(1, activation='sigmoid'))\n",
    "model_cnn.summary()"
   ]
  },
  {
   "cell_type": "code",
   "execution_count": 252,
   "id": "829777ae",
   "metadata": {},
   "outputs": [],
   "source": [
    "model_cnn.compile(optimizer='adam', loss='binary_crossentropy', metrics=['accuracy'])"
   ]
  },
  {
   "cell_type": "code",
   "execution_count": 257,
   "id": "6c0f6580",
   "metadata": {
    "scrolled": true
   },
   "outputs": [
    {
     "name": "stdout",
     "output_type": "stream",
     "text": [
      "Epoch 1/2\n",
      "140/140 [==============================] - 2s 16ms/step - loss: 0.0032 - accuracy: 0.9979 - val_loss: 2.9437 - val_accuracy: 0.7333\n",
      "Epoch 2/2\n",
      "140/140 [==============================] - 2s 12ms/step - loss: 0.0032 - accuracy: 0.9993 - val_loss: 1.9931 - val_accuracy: 0.7850\n"
     ]
    },
    {
     "data": {
      "text/plain": [
       "<keras.callbacks.History at 0x26988bf4220>"
      ]
     },
     "execution_count": 257,
     "metadata": {},
     "output_type": "execute_result"
    }
   ],
   "source": [
    "model_cnn.fit(X_train, labels_train, batch_size = 10, epochs = 2, verbose = 1, validation_data = (X_test, labels_test))"
   ]
  },
  {
   "cell_type": "code",
   "execution_count": 258,
   "id": "ff5ea326",
   "metadata": {},
   "outputs": [
    {
     "name": "stdout",
     "output_type": "stream",
     "text": [
      "Train Accuracy:  1.0\n"
     ]
    }
   ],
   "source": [
    "score = model_cnn.evaluate(X_train, labels_train, verbose = 0)\n",
    "print('Train Accuracy: ', score[1])"
   ]
  },
  {
   "cell_type": "code",
   "execution_count": 259,
   "id": "8c1b9d5e",
   "metadata": {},
   "outputs": [
    {
     "name": "stdout",
     "output_type": "stream",
     "text": [
      "Test Accuracy:  0.7850000262260437\n"
     ]
    }
   ],
   "source": [
    "score = model_cnn.evaluate(X_test, labels_test, verbose = 0)\n",
    "print('Test Accuracy: ', score[1])"
   ]
  },
  {
   "cell_type": "markdown",
   "id": "3320e60d",
   "metadata": {},
   "source": [
    "(f) Long Short-Term Memory Recurrent Neural Network:\n",
    "The structure of the LSTM we are going to use is shown in the following figure.\n",
    "i. Each word is represented to LSTM as a vector of 32 elements and the LSTM\n",
    "is followed by a dense layer of 256 ReLUs. Use a dropout rate of 0.2 for both\n",
    "LSTM and the dense layer. Train the model using 10-50 epochs and batch\n",
    "size of 10.\n",
    "\n",
    "ii. Report the train and test accuracies of this model."
   ]
  },
  {
   "cell_type": "code",
   "execution_count": 275,
   "id": "cceb1af7",
   "metadata": {},
   "outputs": [
    {
     "name": "stdout",
     "output_type": "stream",
     "text": [
      "Model: \"sequential_13\"\n",
      "_________________________________________________________________\n",
      " Layer (type)                Output Shape              Param #   \n",
      "=================================================================\n",
      " embedding_12 (Embedding)    (None, 737, 32)           160000    \n",
      "                                                                 \n",
      " lstm_3 (LSTM)               (None, 32)                8320      \n",
      "                                                                 \n",
      " dropout_27 (Dropout)        (None, 32)                0         \n",
      "                                                                 \n",
      " dense_38 (Dense)            (None, 256)               8448      \n",
      "                                                                 \n",
      " dropout_28 (Dropout)        (None, 256)               0         \n",
      "                                                                 \n",
      " dense_39 (Dense)            (None, 1)                 257       \n",
      "                                                                 \n",
      "=================================================================\n",
      "Total params: 177,025\n",
      "Trainable params: 177,025\n",
      "Non-trainable params: 0\n",
      "_________________________________________________________________\n"
     ]
    }
   ],
   "source": [
    "model_lstm = Sequential()\n",
    "model_lstm.add(Embedding(vocab_size, 32, input_length = L))\n",
    "model_lstm.add(LSTM(32, activation = 'relu'))\n",
    "model_lstm.add(Dropout(0.2))\n",
    "model_lstm.add(Dense(256, activation = 'relu'))\n",
    "model_lstm.add(Dropout(0.2))\n",
    "model_lstm.add(Dense(1, activation='sigmoid'))\n",
    "model_lstm.summary()"
   ]
  },
  {
   "cell_type": "code",
   "execution_count": 276,
   "id": "ffae2510",
   "metadata": {},
   "outputs": [],
   "source": [
    "model_lstm.compile(optimizer='adam', loss='binary_crossentropy', metrics=['accuracy'])"
   ]
  },
  {
   "cell_type": "code",
   "execution_count": 277,
   "id": "e69edea8",
   "metadata": {
    "scrolled": true
   },
   "outputs": [
    {
     "name": "stdout",
     "output_type": "stream",
     "text": [
      "Epoch 1/15\n",
      "140/140 [==============================] - 21s 142ms/step - loss: 0.6930 - accuracy: 0.5064 - val_loss: 0.6901 - val_accuracy: 0.5400\n",
      "Epoch 2/15\n",
      "140/140 [==============================] - 17s 119ms/step - loss: nan - accuracy: 0.5186 - val_loss: nan - val_accuracy: 0.5000\n",
      "Epoch 3/15\n",
      "140/140 [==============================] - 17s 121ms/step - loss: nan - accuracy: 0.5000 - val_loss: nan - val_accuracy: 0.5000\n",
      "Epoch 4/15\n",
      "140/140 [==============================] - 17s 125ms/step - loss: nan - accuracy: 0.5000 - val_loss: nan - val_accuracy: 0.5000\n",
      "Epoch 5/15\n",
      "140/140 [==============================] - 17s 123ms/step - loss: nan - accuracy: 0.5000 - val_loss: nan - val_accuracy: 0.5000\n",
      "Epoch 6/15\n",
      "140/140 [==============================] - 17s 123ms/step - loss: nan - accuracy: 0.5000 - val_loss: nan - val_accuracy: 0.5000\n",
      "Epoch 7/15\n",
      "140/140 [==============================] - 18s 126ms/step - loss: nan - accuracy: 0.5000 - val_loss: nan - val_accuracy: 0.5000\n",
      "Epoch 8/15\n",
      "140/140 [==============================] - 17s 124ms/step - loss: nan - accuracy: 0.5000 - val_loss: nan - val_accuracy: 0.5000\n",
      "Epoch 9/15\n",
      "140/140 [==============================] - 17s 124ms/step - loss: nan - accuracy: 0.5000 - val_loss: nan - val_accuracy: 0.5000\n",
      "Epoch 10/15\n",
      "140/140 [==============================] - 17s 123ms/step - loss: nan - accuracy: 0.5000 - val_loss: nan - val_accuracy: 0.5000\n",
      "Epoch 11/15\n",
      "140/140 [==============================] - 18s 126ms/step - loss: nan - accuracy: 0.5000 - val_loss: nan - val_accuracy: 0.5000\n",
      "Epoch 12/15\n",
      "140/140 [==============================] - 18s 126ms/step - loss: nan - accuracy: 0.5000 - val_loss: nan - val_accuracy: 0.5000\n",
      "Epoch 13/15\n",
      "140/140 [==============================] - 17s 124ms/step - loss: nan - accuracy: 0.5000 - val_loss: nan - val_accuracy: 0.5000\n",
      "Epoch 14/15\n",
      "140/140 [==============================] - 18s 127ms/step - loss: nan - accuracy: 0.5000 - val_loss: nan - val_accuracy: 0.5000\n",
      "Epoch 15/15\n",
      "140/140 [==============================] - 17s 124ms/step - loss: nan - accuracy: 0.5000 - val_loss: nan - val_accuracy: 0.5000\n"
     ]
    },
    {
     "data": {
      "text/plain": [
       "<keras.callbacks.History at 0x26985a3bc10>"
      ]
     },
     "execution_count": 277,
     "metadata": {},
     "output_type": "execute_result"
    }
   ],
   "source": [
    "model_lstm.fit(X_train, labels_train, batch_size = 10, epochs = 15, verbose = 1, validation_data = (X_test, labels_test))"
   ]
  },
  {
   "cell_type": "code",
   "execution_count": 278,
   "id": "f96c5faf",
   "metadata": {},
   "outputs": [
    {
     "name": "stdout",
     "output_type": "stream",
     "text": [
      "Train Accuracy:  0.5\n"
     ]
    }
   ],
   "source": [
    "score = model_lstm.evaluate(X_train, labels_train, verbose = 0)\n",
    "print('Train Accuracy: ', score[1])"
   ]
  },
  {
   "cell_type": "code",
   "execution_count": 279,
   "id": "d86875e7",
   "metadata": {},
   "outputs": [
    {
     "name": "stdout",
     "output_type": "stream",
     "text": [
      "Test Accuracy:  0.5\n"
     ]
    }
   ],
   "source": [
    "score = model_lstm.evaluate(X_test, labels_test, verbose = 0)\n",
    "print('Test Accuracy: ', score[1])"
   ]
  },
  {
   "cell_type": "code",
   "execution_count": null,
   "id": "a1ed98d0",
   "metadata": {},
   "outputs": [],
   "source": []
  }
 ],
 "metadata": {
  "kernelspec": {
   "display_name": "Python 3",
   "language": "python",
   "name": "python3"
  },
  "language_info": {
   "codemirror_mode": {
    "name": "ipython",
    "version": 3
   },
   "file_extension": ".py",
   "mimetype": "text/x-python",
   "name": "python",
   "nbconvert_exporter": "python",
   "pygments_lexer": "ipython3",
   "version": "3.8.8"
  }
 },
 "nbformat": 4,
 "nbformat_minor": 5
}
